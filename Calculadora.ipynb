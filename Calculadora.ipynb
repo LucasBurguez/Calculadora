{
  "nbformat": 4,
  "nbformat_minor": 0,
  "metadata": {
    "colab": {
      "provenance": []
    },
    "kernelspec": {
      "name": "python3",
      "display_name": "Python 3"
    },
    "language_info": {
      "name": "python"
    }
  },
  "cells": [
    {
      "cell_type": "code",
      "execution_count": null,
      "metadata": {
        "colab": {
          "base_uri": "https://localhost:8080/"
        },
        "id": "UrvR7qA-yiyc",
        "outputId": "dc66eab4-aaa9-4e5a-841b-f29bd3862b1a"
      },
      "outputs": [
        {
          "output_type": "stream",
          "name": "stdout",
          "text": [
            "Selecione a operação:\n",
            "1. Adição\n",
            "2. Subtração\n",
            "3. Multiplicação\n",
            "4. Divisão\n",
            "5. Sair\n",
            "Digite o número da operação desejada (1/2/3/4/5): 1\n",
            "Digite o primeiro número: 456\n",
            "Digite o segundo número: 756\n",
            "Resultado: 456.0 + 756.0 = 1212.0\n",
            "\n",
            "Selecione a operação:\n",
            "1. Adição\n",
            "2. Subtração\n",
            "3. Multiplicação\n",
            "4. Divisão\n",
            "5. Sair\n",
            "Digite o número da operação desejada (1/2/3/4/5): 2\n",
            "Digite o primeiro número: 789\n",
            "Digite o segundo número: 500\n",
            "Resultado: 789.0 - 500.0 = 289.0\n",
            "\n",
            "Selecione a operação:\n",
            "1. Adição\n",
            "2. Subtração\n",
            "3. Multiplicação\n",
            "4. Divisão\n",
            "5. Sair\n"
          ]
        }
      ],
      "source": [
        "def calculadora():\n",
        "    while True:\n",
        "        print(\"Selecione a operação:\")\n",
        "        print(\"1. Adição\")\n",
        "        print(\"2. Subtração\")\n",
        "        print(\"3. Multiplicação\")\n",
        "        print(\"4. Divisão\")\n",
        "        print(\"5. Sair\")\n",
        "\n",
        "        opcao = input(\"Digite o número da operação desejada (1/2/3/4/5): \")\n",
        "\n",
        "        if opcao == '5':\n",
        "            print(\"Encerrando a calculadora...\")\n",
        "            break\n",
        "\n",
        "        if opcao not in ['1', '2', '3', '4']:\n",
        "            print(\"Opção inválida. Tente novamente.\")\n",
        "            continue\n",
        "\n",
        "        try:\n",
        "            num1 = float(input(\"Digite o primeiro número: \"))\n",
        "            num2 = float(input(\"Digite o segundo número: \"))\n",
        "        except ValueError:\n",
        "            print(\"Entrada inválida! Certifique-se de digitar números válidos.\")\n",
        "            continue\n",
        "\n",
        "        if opcao == '1':\n",
        "            resultado = num1 + num2\n",
        "            print(f\"Resultado: {num1} + {num2} = {resultado}\")\n",
        "        elif opcao == '2':\n",
        "            resultado = num1 - num2\n",
        "            print(f\"Resultado: {num1} - {num2} = {resultado}\")\n",
        "        elif opcao == '3':\n",
        "            resultado = num1 * num2\n",
        "            print(f\"Resultado: {num1} * {num2} = {resultado}\")\n",
        "        elif opcao == '4':\n",
        "            if num2 != 0:\n",
        "                resultado = num1 / num2\n",
        "                print(f\"Resultado: {num1} / {num2} = {resultado}\")\n",
        "            else:\n",
        "                print(\"Erro! Divisão por zero não permitida.\")\n",
        "\n",
        "        print()\n",
        "\n",
        "# Executar a calculadora\n",
        "calculadora()\n"
      ]
    }
  ]
}